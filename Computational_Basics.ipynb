{
 "cells": [
  {
   "cell_type": "markdown",
   "id": "ef8b783a-1b5a-41cd-8e88-6f86944238f6",
   "metadata": {},
   "source": [
    "# Pset00"
   ]
  },
  {
   "cell_type": "markdown",
   "id": "721ec66b-05fa-45a4-854b-ad890c1a3fe8",
   "metadata": {},
   "source": [
    "## 1."
   ]
  },
  {
   "cell_type": "markdown",
   "id": "d5157da7-ead7-4b31-ac61-6a5ffc7dabab",
   "metadata": {},
   "source": [
    "### a)"
   ]
  },
  {
   "cell_type": "code",
   "execution_count": null,
   "id": "04436067-d334-471e-ba80-2386019773c0",
   "metadata": {},
   "outputs": [],
   "source": [
    "primes = []\n",
    "for i in range(2, 101):\n",
    "    flag = True\n",
    "    for j in range(2,i):\n",
    "        if i % j == 0:\n",
    "            flag = False\n",
    "    if flag == True:\n",
    "        primes.append(i)\n",
    "print(primes)"
   ]
  },
  {
   "cell_type": "markdown",
   "id": "0d9f26bc-0605-4a7f-a32f-90f9a1dd36d9",
   "metadata": {},
   "source": [
    "### b)"
   ]
  },
  {
   "cell_type": "code",
   "execution_count": null,
   "id": "08499826-2c8a-42dc-9ca1-25b1bf505833",
   "metadata": {},
   "outputs": [],
   "source": [
    "form_primes = []\n",
    "for i in range(1,11):\n",
    "    odd_num = (2**i) - 1\n",
    "    for num in primes:\n",
    "        if odd_num == num:\n",
    "            form_primes.append(odd_num)\n",
    "print(form_primes)"
   ]
  },
  {
   "cell_type": "markdown",
   "id": "17d8459d-d3ba-4e5d-b91e-c3caf8734e96",
   "metadata": {},
   "source": [
    "## 2."
   ]
  },
  {
   "cell_type": "markdown",
   "id": "d1456446-bc1a-4941-b5cd-4cfdc32ddfaf",
   "metadata": {},
   "source": [
    "### a)"
   ]
  },
  {
   "cell_type": "code",
   "execution_count": null,
   "id": "0e4ee721-a910-4fd2-ace5-17d937b67b3b",
   "metadata": {},
   "outputs": [],
   "source": [
    "import numpy as np\n",
    "import matplotlib.pyplot as plt\n",
    "c = 1\n",
    "x_mean = 0\n",
    "x_delta = 1\n",
    "def F(x):\n",
    "    return c*np.exp((-(x-x_mean)**2) / (2*(x_delta**2)))\n",
    "\n",
    "x_vals = np.linspace(-5, 5, 100)\n",
    "y_vals = F(x_vals)\n",
    "plt.plot(x_vals, y_vals)\n",
    "plt.title('Gaussian Distribution')\n",
    "plt.xlabel('x')\n",
    "plt.ylabel('F(x)')\n",
    "plt.show()\n"
   ]
  },
  {
   "cell_type": "markdown",
   "id": "b322ab7c-73f5-4bf6-a49d-92739d247de2",
   "metadata": {},
   "source": [
    "### b)"
   ]
  },
  {
   "cell_type": "markdown",
   "id": "0fa003ad-5ff4-4454-a78b-d1773ec3e1aa",
   "metadata": {},
   "source": [
    "#### Here I am changing the mean."
   ]
  },
  {
   "cell_type": "code",
   "execution_count": null,
   "id": "1fca15ab-2fce-4604-9fb4-4ba44cde8104",
   "metadata": {},
   "outputs": [],
   "source": [
    "x_mean = 2\n",
    "x_vals = np.linspace(-5, 5, 100)\n",
    "y_vals = F(x_vals)\n",
    "plt.plot(x_vals, y_vals)\n",
    "plt.title('Gaussian Distribution')\n",
    "plt.xlabel('x')\n",
    "plt.ylabel('F(x)')\n",
    "plt.show()\n",
    "\n"
   ]
  },
  {
   "cell_type": "markdown",
   "id": "0f6092b9-a564-4fe7-8c0a-e4094e5eb891",
   "metadata": {},
   "source": [
    "#### Here I am changing delta x."
   ]
  },
  {
   "cell_type": "code",
   "execution_count": null,
   "id": "5f2848b7-60e4-4231-a1db-743b76bcb93b",
   "metadata": {},
   "outputs": [],
   "source": [
    "x_mean = 0\n",
    "x_delta = 2\n",
    "x_vals = np.linspace(-5, 5, 100)\n",
    "y_vals = F(x_vals)\n",
    "plt.plot(x_vals, y_vals)\n",
    "plt.title('Gaussian Distribution')\n",
    "plt.xlabel('x')\n",
    "plt.ylabel('F(x)')\n",
    "plt.show()\n",
    "print(\"The mean of x parameter causes the distribution to translate to the left or right. Altering the delta of x causes the distribution to widen or narrow.\")"
   ]
  },
  {
   "cell_type": "markdown",
   "id": "d86271a8-b014-4a99-86f4-a87698a52654",
   "metadata": {},
   "source": [
    "### c)"
   ]
  },
  {
   "cell_type": "markdown",
   "id": "d582c88c-7e6c-49a1-b833-8e5a360628b2",
   "metadata": {},
   "source": [
    "![Alt text](unnamed.png)"
   ]
  },
  {
   "cell_type": "markdown",
   "id": "2d2d52c2-61ff-41a9-bdec-90da46fbede6",
   "metadata": {},
   "source": [
    "### d)"
   ]
  },
  {
   "cell_type": "code",
   "execution_count": null,
   "id": "cbdf40df-c3a6-461e-8fce-8a7522d14dda",
   "metadata": {},
   "outputs": [],
   "source": [
    "from scipy import integrate\n",
    "\n",
    "c = 1/(x_delta * np.sqrt(2 * np.pi))\n",
    "x_mean = 0\n",
    "x_delta = 1\n",
    "lower_limit = -2.5 * x_delta\n",
    "upper_limit =  2.5 * x_delta\n",
    "result,error = integrate.quad(F, lower_limit, upper_limit)\n",
    "print(\"Decimal percentage of distribution: \",result)"
   ]
  },
  {
   "cell_type": "markdown",
   "id": "8ce02342-e48c-472a-a146-e752050ce755",
   "metadata": {},
   "source": [
    "## 3.\n",
    "### a)"
   ]
  },
  {
   "cell_type": "code",
   "execution_count": 2,
   "id": "d7423c4f-6fe7-4a5e-977c-0cdf52dadf41",
   "metadata": {},
   "outputs": [
    {
     "data": {
      "text/plain": [
       "Text(0.5, 0, 'sums')"
      ]
     },
     "execution_count": 2,
     "metadata": {},
     "output_type": "execute_result"
    },
    {
     "data": {
      "image/png": "[encoded data removed]",
      "text/plain": [
       "<Figure size 640x480 with 1 Axes>"
      ]
     },
     "metadata": {},
     "output_type": "display_data"
    }
   ],
   "source": [
    "import random as rand\n",
    "import matplotlib.pyplot as plt\n",
    "triplets_1k = []\n",
    "for i in range(1000):\n",
    "    triplet = []\n",
    "    for j in range(3):\n",
    "        triplet.append(rand.randint(1,6))\n",
    "    triplets_1k.append(sum(triplet))\n",
    "\n",
    "plt.title(\"1000 Triplet Sums Histogram\")\n",
    "n, bins, patches = plt.hist(triplets_1k, bins=14, color='green', edgecolor = \"black\", align='left')\n",
    "custom_xticks = bins[:-1]\n",
    "custom_xlabels = ['3', '4', '5', '6', '7', '8', '9', '10', '11', '12', '13', '14', '15', '16']  # Example custom tick labels\n",
    "plt.xticks(custom_xticks, custom_xlabels)\n",
    "plt.xlabel(\"sums\")"
   ]
  },
  {
   "cell_type": "markdown",
   "id": "9fb0206e-043e-4222-b94e-565c793f47aa",
   "metadata": {},
   "source": [
    "### b)"
   ]
  },
  {
   "cell_type": "code",
   "execution_count": 11,
   "id": "f37b97d3-f933-4ccf-8db5-2785a5843670",
   "metadata": {},
   "outputs": [
    {
     "name": "stdout",
     "output_type": "stream",
     "text": [
      "The probability of rolling a triple-6 in a game:  4.67\n"
     ]
    },
    {
     "data": {
      "image/png": "[encoded data removed]",
      "text/plain": [
       "<Figure size 640x480 with 1 Axes>"
      ]
     },
     "metadata": {},
     "output_type": "display_data"
    }
   ],
   "source": [
    "games_1k = []\n",
    "max_value = 0\n",
    "for i in range(1000):\n",
    "    triplets_1k = []\n",
    "    for i in range(1000):\n",
    "        triplet = []\n",
    "        for j in range(3):\n",
    "            triplet.append(rand.randint(1,6))\n",
    "        triplets_1k.append(sum(triplet))\n",
    "        if sum(triplet) == 18:\n",
    "            max_value += 1\n",
    "    games_1k += triplets_1k\n",
    "plt.title(\"1000 games Histogram\")\n",
    "n, bins, patches = plt.hist(games_1k, bins=14, color='green', edgecolor = \"black\", align='left')\n",
    "custom_xticks = bins[:-1]\n",
    "custom_xlabels = ['3', '4', '5', '6', '7', '8', '9', '10', '11', '12', '13', '14', '15', '16']  # Example custom tick labels\n",
    "plt.xticks(custom_xticks, custom_xlabels)\n",
    "plt.xlabel(\"sums\")\n",
    "expected = (max_value/len(games_1k))*1000\n",
    "print('The probability of rolling a triple-6 in a game: ', '{:.2f}'.format(expected))"
   ]
  },
  {
   "cell_type": "markdown",
   "id": "99dee4c6-9db9-4c80-9888-112d0c899c34",
   "metadata": {},
   "source": [
    "### c)"
   ]
  },
  {
   "cell_type": "code",
   "execution_count": 10,
   "id": "9646451e-3505-4569-946f-fcc331db871e",
   "metadata": {},
   "outputs": [
    {
     "name": "stdout",
     "output_type": "stream",
     "text": [
      "The number of times it is expected to roll 3 6's is:  4.63\n"
     ]
    }
   ],
   "source": [
    "probability = 1/(6**3) #there are 6 options and rolling a 6 is one of them for 3 dice\n",
    "ans = probability*1000\n",
    "print('The number of times it is expected to roll 3 6\\'s is: ', '{:.2f}'.format(ans))"
   ]
  }
 ],
 "metadata": {
  "kernelspec": {
   "display_name": "Python 3 (ipykernel)",
   "language": "python",
   "name": "python3"
  },
  "language_info": {
   "codemirror_mode": {
    "name": "ipython",
    "version": 3
   },
   "file_extension": ".py",
   "mimetype": "text/x-python",
   "name": "python",
   "nbconvert_exporter": "python",
   "pygments_lexer": "ipython3",
   "version": "3.8.10"
  }
 },
 "nbformat": 4,
 "nbformat_minor": 5
}
